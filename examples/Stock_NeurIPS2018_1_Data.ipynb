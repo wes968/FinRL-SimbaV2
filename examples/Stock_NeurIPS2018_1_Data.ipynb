{
 "cells": [
  {
   "cell_type": "markdown",
   "metadata": {
    "id": "Sy8r7_g5WjAT"
   },
   "source": [
    "# Stock NeurIPS2018 Part 1. Data\n",
    "This series is a reproduction of paper *the process in the paper Practical Deep Reinforcement Learning Approach for Stock Trading*. \n",
    "\n",
    "This is the first part of the NeurIPS2018 series, introducing how to use FinRL to fetch and process data that we need for ML/RL trading.\n",
    "\n",
    "Other demos can be found at the repo of [FinRL-Tutorials]((https://github.com/AI4Finance-Foundation/FinRL-Tutorials))."
   ]
  },
  {
   "cell_type": "markdown",
   "metadata": {
    "id": "2uH1KXctgnoJ"
   },
   "source": [
    "# Part 1. Install Packages"
   ]
  },
  {
   "cell_type": "code",
   "execution_count": 20,
   "metadata": {
    "id": "j37flV31OJGW"
   },
   "outputs": [],
   "source": [
    "import pandas as pd\n",
    "import yfinance as yf\n",
    "\n",
    "from finrl.meta.preprocessor.yahoodownloader import YahooDownloader\n",
    "from finrl.meta.preprocessor.preprocessors import FeatureEngineer, data_split\n",
    "from finrl import config_tickers\n",
    "from finrl.config import INDICATORS\n",
    "from finrl.config import *\n",
    "import itertools"
   ]
  },
  {
   "cell_type": "markdown",
   "metadata": {
    "id": "wxsN8i7tg07U"
   },
   "source": [
    "# Part 2. Fetch data"
   ]
  },
  {
   "cell_type": "markdown",
   "metadata": {
    "id": "fMNm9tCMXy8J"
   },
   "source": [
    "[yfinance](https://github.com/ranaroussi/yfinance) is an open-source library that provides APIs fetching historical data form Yahoo Finance. In FinRL, we have a class called [YahooDownloader](https://github.com/AI4Finance-Foundation/FinRL/blob/master/finrl/meta/preprocessor/yahoodownloader.py) that use yfinance to fetch data from Yahoo Finance."
   ]
  },
  {
   "cell_type": "markdown",
   "metadata": {
    "id": "CWVXUkzaZE8m"
   },
   "source": [
    "**OHLCV**: Data downloaded are in the form of OHLCV, corresponding to **open, high, low, close, volume,** respectively. OHLCV is important because they contain most of numerical information of a stock in time series. From OHLCV, traders can get further judgement and prediction like the momentum, people's interest, market trends, etc."
   ]
  },
  {
   "cell_type": "markdown",
   "metadata": {
    "id": "jRYlbdMpW9Np"
   },
   "source": [
    "## Data for a single ticker"
   ]
  },
  {
   "cell_type": "markdown",
   "metadata": {
    "id": "1wo6pCQYXDbz"
   },
   "source": [
    "Here we provide two ways to fetch data with single ticker, let's take Apple Inc. (AAPL) as an example."
   ]
  },
  {
   "cell_type": "markdown",
   "metadata": {
    "id": "yzVRe90WXLB1"
   },
   "source": [
    "### Using yfinance"
   ]
  },
  {
   "cell_type": "markdown",
   "metadata": {
    "id": "fHZLDmnsXOK0"
   },
   "source": [
    "### Using FinRL"
   ]
  },
  {
   "cell_type": "markdown",
   "metadata": {
    "id": "VFB77ohNbXCc"
   },
   "source": [
    "In FinRL's YahooDownloader, we modified the data frame to the form that convenient for further data processing process. We use adjusted close price instead of close price, and add a column representing the day of a week (0-4 corresponding to Monday-Friday)."
   ]
  },
  {
   "cell_type": "markdown",
   "metadata": {
    "id": "9kcOE5nbic6R"
   },
   "source": [
    "## Data for the chosen tickers"
   ]
  },
  {
   "cell_type": "code",
   "execution_count": 21,
   "metadata": {
    "id": "9xTPG4Fhc-zL"
   },
   "outputs": [],
   "source": [
    "TRAIN_START_DATE = '2023-01-01'\n",
    "TRAIN_END_DATE = '2024-07-01'\n",
    "TRADE_START_DATE = '2024-07-01'\n",
    "TRADE_END_DATE = '2025-06-08'"
   ]
  },
  {
   "cell_type": "code",
   "execution_count": 22,
   "metadata": {
    "colab": {
     "base_uri": "https://localhost:8080/"
    },
    "id": "9LblMI8CO0F3",
    "outputId": "7be76385-50eb-4e8d-f2e5-1795d77b70ba"
   },
   "outputs": [
    {
     "name": "stderr",
     "output_type": "stream",
     "text": [
      "[*********************100%***********************]  1 of 1 completed"
     ]
    },
    {
     "name": "stderr",
     "output_type": "stream",
     "text": [
      "\n",
      "[*********************100%***********************]  1 of 1 completed\n",
      "[*********************100%***********************]  1 of 1 completed\n",
      "[*********************100%***********************]  1 of 1 completed"
     ]
    },
    {
     "name": "stdout",
     "output_type": "stream",
     "text": [
      "Shape of DataFrame:  (2324, 8)\n"
     ]
    },
    {
     "name": "stderr",
     "output_type": "stream",
     "text": [
      "\n"
     ]
    },
    {
     "data": {
      "text/plain": [
       "\"\\n# 台股標的：鴻海\\ndf_raw = YahooDownloader(start_date = TRAIN_START_DATE,\\n                     end_date = TRADE_END_DATE,\\n                     ticker_list = ['2317.TW']).fetch_data()\\n\\n\""
      ]
     },
     "execution_count": 22,
     "metadata": {},
     "output_type": "execute_result"
    }
   ],
   "source": [
    "\n",
    "# 台股標的：台積電、聯發科、廣達、鴻海\n",
    "df_raw = YahooDownloader(start_date = TRAIN_START_DATE,\n",
    "                     end_date = TRADE_END_DATE,\n",
    "                     ticker_list = ['2330.TW', '2454.TW', '2382.TW', '2317.TW']).fetch_data()\n",
    "\n",
    "'''\n",
    "# 台股標的：台積電\n",
    "df_raw = YahooDownloader(start_date = TRAIN_START_DATE,\n",
    "                     end_date = TRADE_END_DATE,\n",
    "                     ticker_list = ['2330.TW']).fetch_data()\n",
    "'''\n",
    "'''\n",
    "# 台股標的：聯發科\n",
    "df_raw = YahooDownloader(start_date = TRAIN_START_DATE,\n",
    "                     end_date = TRADE_END_DATE,\n",
    "                     ticker_list = ['2454.TW']).fetch_data()\n",
    "'''\n",
    "'''\n",
    "# 台股標的：廣達\n",
    "df_raw = YahooDownloader(start_date = TRAIN_START_DATE,\n",
    "                     end_date = TRADE_END_DATE,\n",
    "                     ticker_list = ['2382.TW']).fetch_data()\n",
    "'''\n",
    "'''\n",
    "# 台股標的：鴻海\n",
    "df_raw = YahooDownloader(start_date = TRAIN_START_DATE,\n",
    "                     end_date = TRADE_END_DATE,\n",
    "                     ticker_list = ['2317.TW']).fetch_data()\n",
    "\n",
    "'''"
   ]
  },
  {
   "cell_type": "code",
   "execution_count": 23,
   "metadata": {
    "colab": {
     "base_uri": "https://localhost:8080/",
     "height": 206
    },
    "id": "RD9cjHzt8X3A",
    "outputId": "051acda5-c8fd-440a-a5af-6be04cfdc018"
   },
   "outputs": [
    {
     "data": {
      "text/html": [
       "<div>\n",
       "<style scoped>\n",
       "    .dataframe tbody tr th:only-of-type {\n",
       "        vertical-align: middle;\n",
       "    }\n",
       "\n",
       "    .dataframe tbody tr th {\n",
       "        vertical-align: top;\n",
       "    }\n",
       "\n",
       "    .dataframe thead th {\n",
       "        text-align: right;\n",
       "    }\n",
       "</style>\n",
       "<table border=\"1\" class=\"dataframe\">\n",
       "  <thead>\n",
       "    <tr style=\"text-align: right;\">\n",
       "      <th>Price</th>\n",
       "      <th>date</th>\n",
       "      <th>close</th>\n",
       "      <th>high</th>\n",
       "      <th>low</th>\n",
       "      <th>open</th>\n",
       "      <th>volume</th>\n",
       "      <th>tic</th>\n",
       "      <th>day</th>\n",
       "    </tr>\n",
       "  </thead>\n",
       "  <tbody>\n",
       "    <tr>\n",
       "      <th>0</th>\n",
       "      <td>2023-01-03</td>\n",
       "      <td>92.169464</td>\n",
       "      <td>92.913519</td>\n",
       "      <td>91.146394</td>\n",
       "      <td>92.913519</td>\n",
       "      <td>46594672</td>\n",
       "      <td>2317.TW</td>\n",
       "      <td>1</td>\n",
       "    </tr>\n",
       "    <tr>\n",
       "      <th>1</th>\n",
       "      <td>2023-01-03</td>\n",
       "      <td>438.210876</td>\n",
       "      <td>438.694553</td>\n",
       "      <td>428.537347</td>\n",
       "      <td>431.439406</td>\n",
       "      <td>14885824</td>\n",
       "      <td>2330.TW</td>\n",
       "      <td>1</td>\n",
       "    </tr>\n",
       "    <tr>\n",
       "      <th>2</th>\n",
       "      <td>2023-01-03</td>\n",
       "      <td>65.128059</td>\n",
       "      <td>65.760375</td>\n",
       "      <td>64.676408</td>\n",
       "      <td>64.947402</td>\n",
       "      <td>8323151</td>\n",
       "      <td>2382.TW</td>\n",
       "      <td>1</td>\n",
       "    </tr>\n",
       "    <tr>\n",
       "      <th>3</th>\n",
       "      <td>2023-01-03</td>\n",
       "      <td>543.007385</td>\n",
       "      <td>543.850564</td>\n",
       "      <td>523.614264</td>\n",
       "      <td>525.300623</td>\n",
       "      <td>4451795</td>\n",
       "      <td>2454.TW</td>\n",
       "      <td>1</td>\n",
       "    </tr>\n",
       "    <tr>\n",
       "      <th>4</th>\n",
       "      <td>2023-01-04</td>\n",
       "      <td>91.239395</td>\n",
       "      <td>91.797433</td>\n",
       "      <td>91.146390</td>\n",
       "      <td>91.146390</td>\n",
       "      <td>41500261</td>\n",
       "      <td>2317.TW</td>\n",
       "      <td>2</td>\n",
       "    </tr>\n",
       "  </tbody>\n",
       "</table>\n",
       "</div>"
      ],
      "text/plain": [
       "Price        date       close        high         low        open    volume  \\\n",
       "0      2023-01-03   92.169464   92.913519   91.146394   92.913519  46594672   \n",
       "1      2023-01-03  438.210876  438.694553  428.537347  431.439406  14885824   \n",
       "2      2023-01-03   65.128059   65.760375   64.676408   64.947402   8323151   \n",
       "3      2023-01-03  543.007385  543.850564  523.614264  525.300623   4451795   \n",
       "4      2023-01-04   91.239395   91.797433   91.146390   91.146390  41500261   \n",
       "\n",
       "Price      tic  day  \n",
       "0      2317.TW    1  \n",
       "1      2330.TW    1  \n",
       "2      2382.TW    1  \n",
       "3      2454.TW    1  \n",
       "4      2317.TW    2  "
      ]
     },
     "execution_count": 23,
     "metadata": {},
     "output_type": "execute_result"
    }
   ],
   "source": [
    "df_raw.head()"
   ]
  },
  {
   "cell_type": "markdown",
   "metadata": {
    "id": "uqC6c40Zh1iH"
   },
   "source": [
    "# Part 3: Preprocess Data\n",
    "We need to check for missing data and do feature engineering to convert the data point into a state.\n",
    "* **Adding technical indicators**. In practical trading, various information needs to be taken into account, such as historical prices, current holding shares, technical indicators, etc. Here, we demonstrate two trend-following technical indicators: MACD and RSI.\n",
    "* **Adding turbulence index**. Risk-aversion reflects whether an investor prefers to protect the capital. It also influences one's trading strategy when facing different market volatility level. To control the risk in a worst-case scenario, such as financial crisis of 2007–2008, FinRL employs the turbulence index that measures extreme fluctuation of asset price."
   ]
  },
  {
   "cell_type": "markdown",
   "metadata": {
    "id": "1lQxLyWpdbAd"
   },
   "source": [
    "Hear let's take **MACD** as an example. Moving average convergence/divergence (MACD) is one of the most commonly used indicator showing bull and bear market. Its calculation is based on EMA (Exponential Moving Average indicator, measuring trend direction over a period of time.)"
   ]
  },
  {
   "cell_type": "code",
   "execution_count": 24,
   "metadata": {
    "colab": {
     "base_uri": "https://localhost:8080/"
    },
    "id": "PmKP-1ii3RLS",
    "outputId": "d514cf1a-8609-402e-ad58-df5f9100ec85"
   },
   "outputs": [
    {
     "name": "stderr",
     "output_type": "stream",
     "text": [
      "[*********************100%***********************]  1 of 1 completed"
     ]
    },
    {
     "name": "stdout",
     "output_type": "stream",
     "text": [
      "Successfully added technical indicators\n",
      "Shape of DataFrame:  (608, 8)\n",
      "Successfully added vix\n"
     ]
    },
    {
     "name": "stderr",
     "output_type": "stream",
     "text": [
      "\n"
     ]
    },
    {
     "name": "stdout",
     "output_type": "stream",
     "text": [
      "Successfully added turbulence index\n"
     ]
    }
   ],
   "source": [
    "fe = FeatureEngineer(use_technical_indicator=True,\n",
    "                     tech_indicator_list = INDICATORS,\n",
    "                     use_vix=True,\n",
    "                     use_turbulence=True,\n",
    "                     user_defined_feature = False)\n",
    "\n",
    "processed = fe.preprocess_data(df_raw)"
   ]
  },
  {
   "cell_type": "code",
   "execution_count": 25,
   "metadata": {
    "id": "Kixon2tR3RLT"
   },
   "outputs": [],
   "source": [
    "list_ticker = processed[\"tic\"].unique().tolist()\n",
    "list_date = list(pd.date_range(processed['date'].min(),processed['date'].max()).astype(str))\n",
    "combination = list(itertools.product(list_date,list_ticker))\n",
    "\n",
    "processed_full = pd.DataFrame(combination,columns=[\"date\",\"tic\"]).merge(processed,on=[\"date\",\"tic\"],how=\"left\")\n",
    "processed_full = processed_full[processed_full['date'].isin(processed['date'])]\n",
    "processed_full = processed_full.sort_values(['date','tic'])\n",
    "\n",
    "processed_full = processed_full.fillna(0)"
   ]
  },
  {
   "cell_type": "code",
   "execution_count": 26,
   "metadata": {
    "colab": {
     "base_uri": "https://localhost:8080/",
     "height": 357
    },
    "id": "HwKJNWJSabNK",
    "outputId": "16c8080e-91b0-4e8d-9a09-44939ac69801"
   },
   "outputs": [
    {
     "data": {
      "text/html": [
       "<div>\n",
       "<style scoped>\n",
       "    .dataframe tbody tr th:only-of-type {\n",
       "        vertical-align: middle;\n",
       "    }\n",
       "\n",
       "    .dataframe tbody tr th {\n",
       "        vertical-align: top;\n",
       "    }\n",
       "\n",
       "    .dataframe thead th {\n",
       "        text-align: right;\n",
       "    }\n",
       "</style>\n",
       "<table border=\"1\" class=\"dataframe\">\n",
       "  <thead>\n",
       "    <tr style=\"text-align: right;\">\n",
       "      <th></th>\n",
       "      <th>date</th>\n",
       "      <th>tic</th>\n",
       "      <th>close</th>\n",
       "      <th>high</th>\n",
       "      <th>low</th>\n",
       "      <th>open</th>\n",
       "      <th>volume</th>\n",
       "      <th>day</th>\n",
       "      <th>macd</th>\n",
       "      <th>boll_ub</th>\n",
       "      <th>boll_lb</th>\n",
       "      <th>rsi_30</th>\n",
       "      <th>cci_30</th>\n",
       "      <th>dx_30</th>\n",
       "      <th>close_30_sma</th>\n",
       "      <th>close_60_sma</th>\n",
       "      <th>vix</th>\n",
       "      <th>turbulence</th>\n",
       "    </tr>\n",
       "  </thead>\n",
       "  <tbody>\n",
       "    <tr>\n",
       "      <th>0</th>\n",
       "      <td>2023-01-03</td>\n",
       "      <td>2317.TW</td>\n",
       "      <td>92.169464</td>\n",
       "      <td>92.913519</td>\n",
       "      <td>91.146394</td>\n",
       "      <td>92.913519</td>\n",
       "      <td>46594672.0</td>\n",
       "      <td>1.0</td>\n",
       "      <td>0.000000</td>\n",
       "      <td>93.019746</td>\n",
       "      <td>90.389113</td>\n",
       "      <td>0.0</td>\n",
       "      <td>-66.666667</td>\n",
       "      <td>100.0</td>\n",
       "      <td>92.169464</td>\n",
       "      <td>92.169464</td>\n",
       "      <td>22.90</td>\n",
       "      <td>0.0</td>\n",
       "    </tr>\n",
       "    <tr>\n",
       "      <th>1</th>\n",
       "      <td>2023-01-03</td>\n",
       "      <td>2330.TW</td>\n",
       "      <td>438.210876</td>\n",
       "      <td>438.694553</td>\n",
       "      <td>428.537347</td>\n",
       "      <td>431.439406</td>\n",
       "      <td>14885824.0</td>\n",
       "      <td>1.0</td>\n",
       "      <td>0.000000</td>\n",
       "      <td>93.019746</td>\n",
       "      <td>90.389113</td>\n",
       "      <td>0.0</td>\n",
       "      <td>-66.666667</td>\n",
       "      <td>100.0</td>\n",
       "      <td>438.210876</td>\n",
       "      <td>438.210876</td>\n",
       "      <td>22.90</td>\n",
       "      <td>0.0</td>\n",
       "    </tr>\n",
       "    <tr>\n",
       "      <th>2</th>\n",
       "      <td>2023-01-03</td>\n",
       "      <td>2382.TW</td>\n",
       "      <td>65.128059</td>\n",
       "      <td>65.760375</td>\n",
       "      <td>64.676408</td>\n",
       "      <td>64.947402</td>\n",
       "      <td>8323151.0</td>\n",
       "      <td>1.0</td>\n",
       "      <td>0.000000</td>\n",
       "      <td>93.019746</td>\n",
       "      <td>90.389113</td>\n",
       "      <td>0.0</td>\n",
       "      <td>-66.666667</td>\n",
       "      <td>100.0</td>\n",
       "      <td>65.128059</td>\n",
       "      <td>65.128059</td>\n",
       "      <td>22.90</td>\n",
       "      <td>0.0</td>\n",
       "    </tr>\n",
       "    <tr>\n",
       "      <th>3</th>\n",
       "      <td>2023-01-03</td>\n",
       "      <td>2454.TW</td>\n",
       "      <td>543.007385</td>\n",
       "      <td>543.850564</td>\n",
       "      <td>523.614264</td>\n",
       "      <td>525.300623</td>\n",
       "      <td>4451795.0</td>\n",
       "      <td>1.0</td>\n",
       "      <td>0.000000</td>\n",
       "      <td>93.019746</td>\n",
       "      <td>90.389113</td>\n",
       "      <td>0.0</td>\n",
       "      <td>-66.666667</td>\n",
       "      <td>100.0</td>\n",
       "      <td>543.007385</td>\n",
       "      <td>543.007385</td>\n",
       "      <td>22.90</td>\n",
       "      <td>0.0</td>\n",
       "    </tr>\n",
       "    <tr>\n",
       "      <th>4</th>\n",
       "      <td>2023-01-04</td>\n",
       "      <td>2317.TW</td>\n",
       "      <td>91.239395</td>\n",
       "      <td>91.797433</td>\n",
       "      <td>91.146390</td>\n",
       "      <td>91.146390</td>\n",
       "      <td>41500261.0</td>\n",
       "      <td>2.0</td>\n",
       "      <td>-0.020867</td>\n",
       "      <td>93.019746</td>\n",
       "      <td>90.389113</td>\n",
       "      <td>0.0</td>\n",
       "      <td>-66.666667</td>\n",
       "      <td>100.0</td>\n",
       "      <td>91.704430</td>\n",
       "      <td>91.704430</td>\n",
       "      <td>22.01</td>\n",
       "      <td>0.0</td>\n",
       "    </tr>\n",
       "  </tbody>\n",
       "</table>\n",
       "</div>"
      ],
      "text/plain": [
       "         date      tic       close        high         low        open  \\\n",
       "0  2023-01-03  2317.TW   92.169464   92.913519   91.146394   92.913519   \n",
       "1  2023-01-03  2330.TW  438.210876  438.694553  428.537347  431.439406   \n",
       "2  2023-01-03  2382.TW   65.128059   65.760375   64.676408   64.947402   \n",
       "3  2023-01-03  2454.TW  543.007385  543.850564  523.614264  525.300623   \n",
       "4  2023-01-04  2317.TW   91.239395   91.797433   91.146390   91.146390   \n",
       "\n",
       "       volume  day      macd    boll_ub    boll_lb  rsi_30     cci_30  dx_30  \\\n",
       "0  46594672.0  1.0  0.000000  93.019746  90.389113     0.0 -66.666667  100.0   \n",
       "1  14885824.0  1.0  0.000000  93.019746  90.389113     0.0 -66.666667  100.0   \n",
       "2   8323151.0  1.0  0.000000  93.019746  90.389113     0.0 -66.666667  100.0   \n",
       "3   4451795.0  1.0  0.000000  93.019746  90.389113     0.0 -66.666667  100.0   \n",
       "4  41500261.0  2.0 -0.020867  93.019746  90.389113     0.0 -66.666667  100.0   \n",
       "\n",
       "   close_30_sma  close_60_sma    vix  turbulence  \n",
       "0     92.169464     92.169464  22.90         0.0  \n",
       "1    438.210876    438.210876  22.90         0.0  \n",
       "2     65.128059     65.128059  22.90         0.0  \n",
       "3    543.007385    543.007385  22.90         0.0  \n",
       "4     91.704430     91.704430  22.01         0.0  "
      ]
     },
     "execution_count": 26,
     "metadata": {},
     "output_type": "execute_result"
    }
   ],
   "source": [
    "processed_full.head()"
   ]
  },
  {
   "cell_type": "markdown",
   "metadata": {
    "id": "ydLNxwdPIJhW"
   },
   "source": [
    "# Part 4: Save the Data"
   ]
  },
  {
   "cell_type": "markdown",
   "metadata": {
    "id": "VbMDnfukILc_"
   },
   "source": [
    "### Split the data for training and trading"
   ]
  },
  {
   "cell_type": "code",
   "execution_count": 27,
   "metadata": {
    "colab": {
     "base_uri": "https://localhost:8080/"
    },
    "id": "iEiXDdUhZP7R",
    "outputId": "554b1c09-6d6f-48fb-c724-351b40a2ddaf"
   },
   "outputs": [
    {
     "name": "stdout",
     "output_type": "stream",
     "text": [
      "1368\n",
      "860\n"
     ]
    }
   ],
   "source": [
    "train = data_split(processed_full, TRAIN_START_DATE,TRAIN_END_DATE)\n",
    "trade = data_split(processed_full, TRADE_START_DATE,TRADE_END_DATE)\n",
    "print(len(train))\n",
    "print(len(trade))"
   ]
  },
  {
   "cell_type": "markdown",
   "metadata": {
    "id": "DflbzEV8IRhF"
   },
   "source": [
    "### Save data to csv file"
   ]
  },
  {
   "cell_type": "markdown",
   "metadata": {
    "id": "Tud3IZDzIUpd"
   },
   "source": [
    "For Colab users, you can open the virtual directory in colab and manually download the files.\n",
    "\n",
    "For users running on your local environment, the csv files should be at the same directory of this notebook."
   ]
  },
  {
   "cell_type": "code",
   "execution_count": 28,
   "metadata": {
    "id": "j2c12CpfHEjE"
   },
   "outputs": [],
   "source": [
    "train.to_csv('train_data.csv')\n",
    "trade.to_csv('trade_data.csv')"
   ]
  }
 ],
 "metadata": {
  "colab": {
   "provenance": []
  },
  "kernelspec": {
   "display_name": "testenv",
   "language": "python",
   "name": "python3"
  },
  "language_info": {
   "codemirror_mode": {
    "name": "ipython",
    "version": 3
   },
   "file_extension": ".py",
   "mimetype": "text/x-python",
   "name": "python",
   "nbconvert_exporter": "python",
   "pygments_lexer": "ipython3",
   "version": "3.9.2"
  }
 },
 "nbformat": 4,
 "nbformat_minor": 0
}
