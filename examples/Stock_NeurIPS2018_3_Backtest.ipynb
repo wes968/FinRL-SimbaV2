{
 "cells": [
  {
   "cell_type": "markdown",
   "metadata": {
    "id": "v7Cycmf3Zbok"
   },
   "source": [
    "# Stock NeurIPS2018 Part 3. Backtest\n",
    "This series is a reproduction of paper *the process in the paper Practical Deep Reinforcement Learning Approach for Stock Trading*. \n",
    "\n",
    "This is the third and last part of the NeurIPS2018 series, introducing how to use use the agents we trained to do backtest, and compare with baselines such as Mean Variance Optimization and DJIA index.\n",
    "\n",
    "Other demos can be found at the repo of [FinRL-Tutorials]((https://github.com/AI4Finance-Foundation/FinRL-Tutorials))."
   ]
  },
  {
   "cell_type": "markdown",
   "metadata": {
    "id": "1oWbj4HgqHBg"
   },
   "source": [
    "# Part 1. Install Packages"
   ]
  },
  {
   "cell_type": "code",
   "execution_count": 1,
   "metadata": {
    "id": "QJgoEYx3p_NG"
   },
   "outputs": [],
   "source": [
    "## install finrl library\n",
    "#!pip install git+https://github.com/AI4Finance-Foundation/FinRL.git"
   ]
  },
  {
   "cell_type": "code",
   "execution_count": 2,
   "metadata": {
    "id": "mqfBOKz-qJYF"
   },
   "outputs": [],
   "source": [
    "import matplotlib.pyplot as plt\n",
    "import numpy as np\n",
    "import pandas as pd\n",
    "from stable_baselines3 import A2C, DDPG, PPO, SAC, TD3\n",
    "\n",
    "from finrl.agents.stablebaselines3.models import DRLAgent\n",
    "from finrl.config import INDICATORS, TRAINED_MODEL_DIR\n",
    "from finrl.meta.env_stock_trading.env_stocktrading import StockTradingEnv\n",
    "from finrl.meta.preprocessor.yahoodownloader import YahooDownloader\n",
    "\n",
    "%matplotlib inline"
   ]
  },
  {
   "cell_type": "markdown",
   "metadata": {
    "id": "mUF2P4hmqVjh"
   },
   "source": [
    "# Part 2. Backtesting"
   ]
  },
  {
   "cell_type": "markdown",
   "metadata": {
    "id": "BdU6qLsVWDxI"
   },
   "source": [
    "To backtest the agents, upload trade_data.csv in the same directory of this notebook. For Colab users, just upload trade_data.csv to the default directory."
   ]
  },
  {
   "cell_type": "code",
   "execution_count": 3,
   "metadata": {
    "id": "mSjBHn_MZr4U"
   },
   "outputs": [],
   "source": [
    "train = pd.read_csv('train_data.csv')\n",
    "trade = pd.read_csv('trade_data.csv')\n",
    "\n",
    "# If you are not using the data generated from part 1 of this tutorial, make sure \n",
    "# it has the columns and index in the form that could be make into the environment. \n",
    "# Then you can comment and skip the following lines.\n",
    "train = train.set_index(train.columns[0])\n",
    "train.index.names = ['']\n",
    "trade = trade.set_index(trade.columns[0])\n",
    "trade.index.names = ['']"
   ]
  },
  {
   "cell_type": "markdown",
   "metadata": {
    "id": "qu4Ey54b36oL"
   },
   "source": [
    "Then, upload the trained agent to the same directory, and set the corresponding variable to True."
   ]
  },
  {
   "cell_type": "code",
   "execution_count": null,
   "metadata": {
    "id": "Z_mVZM4IIa55"
   },
   "outputs": [],
   "source": [
    "if_using_a2c = True\n",
    "if_using_ddpg = False\n",
    "if_using_ppo = True\n",
    "if_using_td3 = False\n",
    "if_using_sac = False"
   ]
  },
  {
   "cell_type": "markdown",
   "metadata": {
    "id": "73D4oRqAIkYj"
   },
   "source": [
    "Load the agents"
   ]
  },
  {
   "cell_type": "code",
   "execution_count": null,
   "metadata": {
    "id": "6CagrX0I36ZN"
   },
   "outputs": [],
   "source": [
    "trained_a2c = A2C.load(TRAINED_MODEL_DIR + \"/agent_a2c\") if if_using_a2c else None\n",
    "trained_ddpg = DDPG.load(TRAINED_MODEL_DIR + \"/agent_ddpg\") if if_using_ddpg else None\n",
    "trained_ppo = PPO.load(TRAINED_MODEL_DIR + \"/agent_ppo\") if if_using_ppo else None\n",
    "trained_td3 = TD3.load(TRAINED_MODEL_DIR + \"/agent_td3\") if if_using_td3 else None\n",
    "trained_sac = SAC.load(TRAINED_MODEL_DIR + \"/agent_sac\") if if_using_sac else None"
   ]
  },
  {
   "cell_type": "markdown",
   "metadata": {
    "id": "U5mmgQF_h1jQ"
   },
   "source": [
    "### Trading (Out-of-sample Performance)\n",
    "\n",
    "We update periodically in order to take full advantage of the data, e.g., retrain quarterly, monthly or weekly. We also tune the parameters along the way, in this notebook we use the in-sample data from 2009-01 to 2020-07 to tune the parameters once, so there is some alpha decay here as the length of trade date extends. \n",
    "\n",
    "Numerous hyperparameters – e.g. the learning rate, the total number of samples to train on – influence the learning process and are usually determined by testing some variations."
   ]
  },
  {
   "cell_type": "code",
   "execution_count": 6,
   "metadata": {
    "colab": {
     "base_uri": "https://localhost:8080/"
    },
    "id": "4H_w3SaBAkKU",
    "outputId": "fdaed3a7-d3a9-4cde-d194-ee4576057175"
   },
   "outputs": [
    {
     "name": "stdout",
     "output_type": "stream",
     "text": [
      "Stock Dimension: 4, State Space: 41\n"
     ]
    }
   ],
   "source": [
    "stock_dimension = len(trade.tic.unique())\n",
    "state_space = 1 + 2 * stock_dimension + len(INDICATORS) * stock_dimension\n",
    "print(f\"Stock Dimension: {stock_dimension}, State Space: {state_space}\")"
   ]
  },
  {
   "cell_type": "code",
   "execution_count": 7,
   "metadata": {
    "id": "nKNmQMqGAknW"
   },
   "outputs": [],
   "source": [
    "buy_cost_list = sell_cost_list = [0.001] * stock_dimension\n",
    "num_stock_shares = [0] * stock_dimension\n",
    "\n",
    "env_kwargs = {\n",
    "    \"hmax\": 100,\n",
    "    \"initial_amount\": 1000000,\n",
    "    \"num_stock_shares\": num_stock_shares,\n",
    "    \"buy_cost_pct\": buy_cost_list,\n",
    "    \"sell_cost_pct\": sell_cost_list,\n",
    "    \"state_space\": state_space,\n",
    "    \"stock_dim\": stock_dimension,\n",
    "    \"tech_indicator_list\": INDICATORS,\n",
    "    \"action_space\": stock_dimension,\n",
    "    \"reward_scaling\": 1e-4\n",
    "}"
   ]
  },
  {
   "cell_type": "code",
   "execution_count": 8,
   "metadata": {
    "id": "cIqoV0GSI52v"
   },
   "outputs": [],
   "source": [
    "e_trade_gym = StockTradingEnv(df = trade, turbulence_threshold = 70,risk_indicator_col='vix', **env_kwargs)\n",
    "# env_trade, obs_trade = e_trade_gym.get_sb_env()"
   ]
  },
  {
   "cell_type": "code",
   "execution_count": 9,
   "metadata": {
    "colab": {
     "base_uri": "https://localhost:8080/"
    },
    "id": "lbFchno5j3xs",
    "outputId": "44fffa47-3b47-4e7b-96c2-0a485e9efead"
   },
   "outputs": [
    {
     "name": "stdout",
     "output_type": "stream",
     "text": [
      "hit end!\n"
     ]
    }
   ],
   "source": [
    "df_account_value_a2c, df_actions_a2c = DRLAgent.DRL_prediction(\n",
    "    model=trained_a2c, \n",
    "    environment = e_trade_gym) if if_using_a2c else (None, None)"
   ]
  },
  {
   "cell_type": "code",
   "execution_count": 10,
   "metadata": {
    "id": "JbYljWGjj3pH"
   },
   "outputs": [],
   "source": [
    "df_account_value_ddpg, df_actions_ddpg = DRLAgent.DRL_prediction(\n",
    "    model=trained_ddpg, \n",
    "    environment = e_trade_gym) if if_using_ddpg else (None, None)"
   ]
  },
  {
   "cell_type": "code",
   "execution_count": 11,
   "metadata": {
    "id": "74jNP2DBj3hb"
   },
   "outputs": [
    {
     "name": "stdout",
     "output_type": "stream",
     "text": [
      "hit end!\n"
     ]
    }
   ],
   "source": [
    "df_account_value_ppo, df_actions_ppo = DRLAgent.DRL_prediction(\n",
    "    model=trained_ppo, \n",
    "    environment = e_trade_gym) if if_using_ppo else (None, None)"
   ]
  },
  {
   "cell_type": "code",
   "execution_count": 12,
   "metadata": {
    "id": "S7VyGGJPj3SH"
   },
   "outputs": [],
   "source": [
    "df_account_value_td3, df_actions_td3 = DRLAgent.DRL_prediction(\n",
    "    model=trained_td3, \n",
    "    environment = e_trade_gym) if if_using_td3 else (None, None)"
   ]
  },
  {
   "cell_type": "code",
   "execution_count": 13,
   "metadata": {
    "colab": {
     "base_uri": "https://localhost:8080/"
    },
    "id": "eLOnL5eYh1jR",
    "outputId": "70e50e24-aed5-49f9-cdd7-de6b9689d9ce"
   },
   "outputs": [],
   "source": [
    "df_account_value_sac, df_actions_sac = DRLAgent.DRL_prediction(\n",
    "    model=trained_sac, \n",
    "    environment = e_trade_gym) if if_using_sac else (None, None)"
   ]
  },
  {
   "cell_type": "markdown",
   "metadata": {
    "id": "GcE-t08w6DaW"
   },
   "source": [
    "# Part 3: Mean Variance Optimization"
   ]
  },
  {
   "cell_type": "markdown",
   "metadata": {
    "id": "17TUs71EWj09"
   },
   "source": [
    "Mean Variance optimization is a very classic strategy in portfolio management. Here, we go through the whole process to do the mean variance optimization and add it as a baseline to compare.\n",
    "\n",
    "First, process dataframe to the form for MVO weight calculation."
   ]
  },
  {
   "cell_type": "code",
   "execution_count": 14,
   "metadata": {
    "id": "wungSNOwPwKR"
   },
   "outputs": [],
   "source": [
    "def process_df_for_mvo(df):\n",
    "  return df.pivot(index=\"date\", columns=\"tic\", values=\"close\")"
   ]
  },
  {
   "cell_type": "markdown",
   "metadata": {
    "id": "SwEwkHJ1d_6u"
   },
   "source": [
    "### Helper functions for mean returns and variance-covariance matrix"
   ]
  },
  {
   "cell_type": "code",
   "execution_count": 15,
   "metadata": {
    "id": "6KvXkpyE8MFq"
   },
   "outputs": [],
   "source": [
    "# Codes in this section partially refer to Dr G A Vijayalakshmi Pai\n",
    "# https://www.kaggle.com/code/vijipai/lesson-5-mean-variance-optimization-of-portfolios/notebook\n",
    "\n",
    "def StockReturnsComputing(StockPrice, Rows, Columns): \n",
    "  import numpy as np \n",
    "  StockReturn = np.zeros([Rows-1, Columns]) \n",
    "  for j in range(Columns):        # j: Assets \n",
    "    for i in range(Rows-1):     # i: Daily Prices \n",
    "      StockReturn[i,j]=((StockPrice[i+1, j]-StockPrice[i,j])/StockPrice[i,j])* 100 \n",
    "      \n",
    "  return StockReturn"
   ]
  },
  {
   "cell_type": "markdown",
   "metadata": {
    "id": "IeVVbuwveJ_5"
   },
   "source": [
    "### Calculate the weights for mean-variance"
   ]
  },
  {
   "cell_type": "code",
   "execution_count": 16,
   "metadata": {
    "colab": {
     "base_uri": "https://localhost:8080/"
    },
    "id": "kE8nruKLQYLO",
    "outputId": "42d07c80-f309-49f8-f2b4-36a51987086f"
   },
   "outputs": [
    {
     "data": {
      "text/plain": [
       "array([[ 210.6000061 ,  964.29510498,  308.5       , 1356.00585938],\n",
       "       [ 204.5       ,  956.32568359,  306.5       , 1351.2142334 ],\n",
       "       [ 203.        ,  975.25299072,  308.        , 1346.42285156],\n",
       "       [ 214.5       , 1001.15344238,  312.        , 1322.33215332],\n",
       "       [ 226.5       , 1031.03869629,  319.5       , 1390.89758301],\n",
       "       [ 225.5       , 1036.01953125,  336.        , 1430.07775879],\n",
       "       [ 223.5       , 1041.00036621,  341.        , 1405.59008789],\n",
       "       [ 225.5       , 1075.86645508,  332.5       , 1390.89758301],\n",
       "       [ 216.        , 1036.01953125,  326.        , 1332.12719727],\n",
       "       [ 216.5       , 1036.01953125,  323.        , 1327.22973633],\n",
       "       [ 213.        , 1050.9621582 ,  322.5       , 1317.43457031],\n",
       "       [ 212.        , 1026.05773926,  314.        , 1297.84448242],\n",
       "       [ 204.        , 1001.15344238,  298.        , 1253.7668457 ],\n",
       "       [ 204.        ,  966.28741455,  297.        , 1234.17663574],\n",
       "       [ 192.5       ,  935.40606689,  288.        , 1199.89404297],\n",
       "       [ 201.5       ,  975.25299072,  297.        , 1248.8692627 ],\n",
       "       [ 192.        ,  920.46350098,  275.        , 1219.48413086],\n",
       "       [ 193.        ,  940.38696289,  270.        , 1214.58654785],\n",
       "       [ 196.        ,  936.40222168,  270.5       , 1229.2791748 ],\n",
       "       [ 198.        ,  930.42523193,  272.5       , 1194.99645996],\n",
       "       [ 202.5       ,  956.32568359,  289.        , 1155.81628418],\n",
       "       [ 186.5       ,  899.54388428,  266.        , 1067.6607666 ],\n",
       "       [ 168.        ,  811.88067627,  239.5       ,  970.6897583 ],\n",
       "       [ 167.5       ,  876.63189697,  247.        , 1052.96813965],\n",
       "       [ 170.5       ,  916.4788208 ,  250.        , 1126.43115234],\n",
       "       [ 163.5       ,  892.57067871,  240.        , 1092.1484375 ],\n",
       "       [ 168.5       ,  930.42523193,  250.        , 1101.94348145],\n",
       "       [ 176.        ,  936.40222168,  267.        , 1150.91870117],\n",
       "       [ 181.        ,  937.3984375 ,  266.5       , 1136.22619629],\n",
       "       [ 185.5       ,  944.37164307,  271.        , 1160.71374512],\n",
       "       [ 181.        ,  939.39074707,  271.5       , 1131.32861328],\n",
       "       [ 184.        ,  965.29125977,  278.5       , 1204.79150391],\n",
       "       [ 187.        ,  969.27593994,  278.        , 1229.2791748 ],\n",
       "       [ 186.5       ,  969.27593994,  284.        , 1224.3815918 ],\n",
       "       [ 183.5       ,  954.33337402,  282.        , 1194.99645996],\n",
       "       [ 179.5       ,  947.36016846,  276.        , 1204.79150391],\n",
       "       [ 180.        ,  945.36779785,  276.        , 1199.89404297],\n",
       "       [ 182.        ,  946.36395264,  275.        , 1190.09899902],\n",
       "       [ 180.5       ,  938.39459229,  275.5       , 1185.20141602],\n",
       "       [ 185.5       ,  960.31036377,  278.5       , 1175.40637207],\n",
       "       [ 184.5       ,  939.39074707,  272.        , 1224.3815918 ],\n",
       "       [ 184.5       ,  940.38696289,  268.        , 1214.58654785],\n",
       "       [ 185.        ,  936.40222168,  272.        , 1194.99645996],\n",
       "       [ 179.5       ,  885.59747314,  250.        , 1111.73852539],\n",
       "       [ 175.        ,  898.54766846,  247.        , 1087.25085449],\n",
       "       [ 176.5       ,  914.4864502 ,  256.5       , 1121.53356934],\n",
       "       [ 172.        ,  895.5592041 ,  250.        , 1082.35339355],\n",
       "       [ 169.        ,  900.54003906,  239.5       , 1106.84094238],\n",
       "       [ 169.5       ,  897.55151367,  242.        , 1087.25085449],\n",
       "       [ 177.5       ,  936.40222168,  253.        , 1131.32861328],\n",
       "       [ 176.        ,  943.37548828,  254.5       , 1101.94348145],\n",
       "       [ 181.        ,  943.37548828,  254.        , 1106.84094238],\n",
       "       [ 174.        ,  937.3984375 ,  250.        , 1082.35339355],\n",
       "       [ 176.5       ,  956.32568359,  253.        , 1097.04589844],\n",
       "       [ 177.        ,  969.27593994,  252.5       , 1101.94348145],\n",
       "       [ 180.        ,  973.26062012,  257.        , 1121.53356934],\n",
       "       [ 183.        ,  983.22235107,  256.5       , 1170.50878906],\n",
       "       [ 188.5       , 1001.15344238,  272.5       , 1199.89404297],\n",
       "       [ 189.5       , 1011.11517334,  275.5       , 1243.97167969],\n",
       "       [ 191.        ,  996.17260742,  277.        , 1234.17663574],\n",
       "       [ 187.5       ,  953.3371582 ,  264.        , 1150.91870117],\n",
       "       [ 187.        ,  968.27978516,  268.        , 1185.20141602],\n",
       "       [ 194.        ,  973.26062012,  262.        , 1204.79150391],\n",
       "       [ 197.5       , 1001.15344238,  267.5       , 1224.3815918 ],\n",
       "       [ 194.        , 1006.13433838,  265.5       , 1199.89404297],\n",
       "       [ 199.        , 1016.09606934,  273.5       , 1219.48413086],\n",
       "       [ 200.        , 1041.00036621,  282.        , 1273.35693359],\n",
       "       [ 199.        , 1041.00036621,  283.5       , 1263.56188965],\n",
       "       [ 207.        , 1065.90466309,  295.5       , 1273.35693359],\n",
       "       [ 205.        , 1041.00036621,  295.        , 1248.8692627 ],\n",
       "       [ 208.5       , 1031.03869629,  300.5       , 1248.8692627 ],\n",
       "       [ 207.5       , 1080.84729004,  307.        , 1278.25439453],\n",
       "       [ 210.        , 1080.84729004,  309.        , 1302.74206543],\n",
       "       [ 215.5       , 1070.88549805,  319.        , 1283.15197754],\n",
       "       [ 216.        , 1055.94299316,  317.        , 1273.35693359],\n",
       "       [ 211.5       , 1055.94299316,  305.        , 1243.97167969],\n",
       "       [ 216.        , 1060.92382812,  310.        , 1288.04943848],\n",
       "       [ 215.        , 1045.98120117,  310.        , 1307.63952637],\n",
       "       [ 209.5       , 1036.01953125,  303.        , 1273.35693359],\n",
       "       [ 211.5       , 1026.05773926,  303.5       , 1263.56188965],\n",
       "       [ 208.        , 1021.0769043 ,  305.        , 1263.56188965],\n",
       "       [ 214.        , 1036.01953125,  313.5       , 1268.45935059],\n",
       "       [ 214.        , 1045.98120117,  318.        , 1263.56188965],\n",
       "       [ 213.5       , 1055.94299316,  320.5       , 1278.25439453],\n",
       "       [ 217.        , 1060.92382812,  325.5       , 1278.25439453],\n",
       "       [ 218.        , 1085.828125  ,  328.        , 1253.7668457 ],\n",
       "       [ 220.        , 1080.84729004,  325.        , 1268.45935059],\n",
       "       [ 214.        , 1045.98120117,  313.        , 1239.07421875],\n",
       "       [ 214.5       , 1031.03869629,  322.        , 1229.2791748 ],\n",
       "       [ 211.5       , 1031.03869629,  314.5       , 1209.68908691],\n",
       "       [ 207.        , 1031.03869629,  297.        , 1243.97167969],\n",
       "       [ 202.5       , 1021.0769043 ,  290.5       , 1214.58654785],\n",
       "       [ 203.5       , 1036.01953125,  290.        , 1258.66430664],\n",
       "       [ 206.        , 1021.0769043 ,  295.5       , 1248.8692627 ],\n",
       "       [ 202.5       , 1006.13433838,  294.        , 1239.07421875],\n",
       "       [ 203.        , 1036.01953125,  297.        , 1283.15197754],\n",
       "       [ 210.5       , 1026.05773926,  299.        , 1253.7668457 ],\n",
       "       [ 202.5       , 1006.13433838,  297.        , 1253.7668457 ],\n",
       "       [ 196.5       ,  996.17260742,  286.5       , 1224.3815918 ],\n",
       "       [ 195.5       ,  992.18792725,  291.        , 1229.2791748 ],\n",
       "       [ 196.        , 1031.03869629,  293.        , 1283.15197754],\n",
       "       [ 196.5       , 1050.9621582 ,  293.        , 1288.04943848],\n",
       "       [ 201.        , 1065.90466309,  294.        , 1292.94702148],\n",
       "       [ 199.        , 1070.88549805,  294.        , 1297.84448242],\n",
       "       [ 198.        , 1060.92382812,  297.        , 1278.25439453],\n",
       "       [ 195.        , 1070.88549805,  296.        , 1297.84448242],\n",
       "       [ 192.        , 1060.92382812,  293.        , 1322.33215332],\n",
       "       [ 189.        , 1041.00036621,  287.        , 1322.33215332],\n",
       "       [ 188.5       , 1060.        ,  286.        , 1351.71728516],\n",
       "       [ 186.5       , 1065.        ,  285.5       , 1381.10241699],\n",
       "       [ 182.        , 1085.        ,  275.        , 1356.61486816],\n",
       "       [ 183.        , 1075.        ,  275.        , 1395.79504395],\n",
       "       [ 184.5       , 1085.        ,  276.        , 1390.89758301],\n",
       "       [ 181.        , 1070.        ,  274.5       , 1390.89758301],\n",
       "       [ 181.        , 1035.        ,  277.5       , 1361.5123291 ],\n",
       "       [ 185.5       , 1080.        ,  289.        , 1381.10241699],\n",
       "       [ 185.5       , 1080.        ,  291.        , 1376.20495605],\n",
       "       [ 187.5       , 1085.        ,  291.        , 1390.89758301],\n",
       "       [ 186.5       , 1090.        ,  291.        , 1400.69262695],\n",
       "       [ 185.        , 1090.        ,  288.        , 1390.89758301],\n",
       "       [ 184.        , 1075.        ,  287.        , 1386.        ],\n",
       "       [ 182.5       , 1065.        ,  280.        , 1350.        ],\n",
       "       [ 181.        , 1075.        ,  289.        , 1365.        ],\n",
       "       [ 184.5       , 1125.        ,  294.        , 1425.        ],\n",
       "       [ 190.        , 1130.        ,  295.5       , 1490.        ],\n",
       "       [ 188.        , 1105.        ,  295.        , 1470.        ],\n",
       "       [ 181.5       , 1100.        ,  283.5       , 1465.        ],\n",
       "       [ 171.5       , 1075.        ,  270.5       , 1390.        ],\n",
       "       [ 174.5       , 1090.        ,  269.        , 1400.        ],\n",
       "       [ 171.        , 1065.        ,  260.        , 1420.        ],\n",
       "       [ 173.5       , 1105.        ,  260.        , 1460.        ],\n",
       "       [ 173.5       , 1120.        ,  260.5       , 1430.        ],\n",
       "       [ 178.5       , 1120.        ,  269.        , 1465.        ],\n",
       "       [ 180.        , 1135.        ,  269.5       , 1465.        ],\n",
       "       [ 165.5       , 1070.        ,  243.        , 1500.        ],\n",
       "       [ 165.        , 1095.        ,  235.        , 1490.        ],\n",
       "       [ 171.        , 1110.        ,  240.        , 1525.        ],\n",
       "       [ 173.        , 1115.        ,  242.5       , 1525.        ],\n",
       "       [ 178.        , 1125.        ,  252.        , 1525.        ],\n",
       "       [ 174.        , 1105.        ,  252.        , 1480.        ],\n",
       "       [ 179.        , 1110.        ,  258.        , 1510.        ],\n",
       "       [ 177.        , 1100.        ,  258.        , 1485.        ],\n",
       "       [ 180.        , 1090.        ,  260.        , 1520.        ],\n",
       "       [ 178.        , 1060.        ,  260.        , 1505.        ],\n",
       "       [ 183.5       , 1100.        ,  264.5       , 1535.        ],\n",
       "       [ 183.        , 1090.        ,  269.5       , 1540.        ],\n",
       "       [ 182.        , 1080.        ,  266.5       , 1500.        ],\n",
       "       [ 183.        , 1095.        ,  270.        , 1510.        ],\n",
       "       [ 184.        , 1075.        ,  265.        , 1545.        ],\n",
       "       [ 177.5       , 1055.        ,  254.5       , 1550.        ],\n",
       "       [ 180.5       , 1060.        ,  260.        , 1560.        ],\n",
       "       [ 174.        , 1040.        ,  250.5       , 1515.        ],\n",
       "       [ 170.        , 1020.        ,  250.5       , 1470.        ],\n",
       "       [ 170.5       , 1000.        ,  258.5       , 1505.        ],\n",
       "       [ 173.5       , 1020.        ,  262.        , 1505.        ],\n",
       "       [ 173.5       , 1005.        ,  260.5       , 1495.        ],\n",
       "       [ 172.        , 1005.        ,  258.        , 1465.        ],\n",
       "       [ 172.        ,  998.        ,  261.        , 1395.        ],\n",
       "       [ 168.5       ,  971.        ,  254.5       , 1385.        ],\n",
       "       [ 170.5       ,  988.        ,  259.5       , 1410.        ],\n",
       "       [ 168.        ,  965.        ,  257.5       , 1390.        ],\n",
       "       [ 170.        ,  959.        ,  256.5       , 1400.        ],\n",
       "       [ 168.        ,  970.        ,  255.        , 1425.        ],\n",
       "       [ 167.5       ,  971.        ,  259.5       , 1475.        ],\n",
       "       [ 164.        ,  952.        ,  253.5       , 1465.        ],\n",
       "       [ 166.        ,  985.        ,  257.        , 1485.        ],\n",
       "       [ 165.        ,  972.        ,  256.        , 1480.        ],\n",
       "       [ 163.        ,  972.        ,  249.5       , 1480.        ],\n",
       "       [ 165.        ,  990.        ,  249.5       , 1525.        ],\n",
       "       [ 166.        ,  980.        ,  252.        , 1515.        ],\n",
       "       [ 160.5       ,  958.        ,  246.        , 1485.        ],\n",
       "       [ 154.        ,  952.        ,  241.        , 1465.        ],\n",
       "       [ 146.        ,  910.        ,  224.5       , 1390.        ],\n",
       "       [ 152.        ,  944.        ,  234.        , 1460.        ],\n",
       "       [ 153.5       ,  942.        ,  233.        , 1435.        ],\n",
       "       [ 138.5       ,  848.        ,  210.        , 1295.        ],\n",
       "       [ 125.        ,  816.        ,  191.5       , 1260.        ],\n",
       "       [ 112.5       ,  785.        ,  178.5       , 1185.        ],\n",
       "       [ 123.5       ,  863.        ,  196.        , 1300.        ],\n",
       "       [ 134.5       ,  889.        ,  215.5       , 1385.        ],\n",
       "       [ 138.5       ,  865.        ,  228.        , 1400.        ],\n",
       "       [ 139.5       ,  877.        ,  228.        , 1385.        ],\n",
       "       [ 136.        ,  855.        ,  227.        , 1365.        ],\n",
       "       [ 134.5       ,  847.        ,  230.        , 1340.        ],\n",
       "       [ 136.5       ,  835.        ,  232.        , 1345.        ],\n",
       "       [ 132.        ,  816.        ,  223.5       , 1300.        ],\n",
       "       [ 139.        ,  873.        ,  235.        , 1370.        ],\n",
       "       [ 136.5       ,  864.        ,  230.        , 1330.        ],\n",
       "       [ 139.        ,  888.        ,  235.        , 1380.        ],\n",
       "       [ 142.5       ,  897.        ,  245.        , 1350.        ],\n",
       "       [ 143.        ,  902.        ,  242.5       , 1370.        ],\n",
       "       [ 141.5       ,  908.        ,  238.5       , 1350.        ],\n",
       "       [ 147.5       ,  950.        ,  251.        , 1300.        ],\n",
       "       [ 142.5       ,  938.        ,  246.5       , 1295.        ],\n",
       "       [ 146.        ,  920.        ,  254.        , 1280.        ],\n",
       "       [ 145.        ,  928.        ,  254.        , 1275.        ],\n",
       "       [ 146.        ,  918.        ,  251.5       , 1290.        ],\n",
       "       [ 147.        ,  949.        ,  256.5       , 1325.        ],\n",
       "       [ 153.        ,  957.        ,  258.5       , 1315.        ],\n",
       "       [ 158.        ,  969.        ,  262.        , 1355.        ],\n",
       "       [ 163.        ,  999.        ,  276.5       , 1360.        ],\n",
       "       [ 159.5       ,  993.        ,  277.5       , 1370.        ],\n",
       "       [ 158.        ,  998.        ,  275.        , 1365.        ],\n",
       "       [ 154.        ,  984.        ,  266.        , 1310.        ],\n",
       "       [ 154.        ,  978.        ,  266.5       , 1315.        ],\n",
       "       [ 155.        ,  990.        ,  272.        , 1340.        ],\n",
       "       [ 153.        ,  982.        ,  267.5       , 1325.        ],\n",
       "       [ 154.        ,  984.        ,  264.        , 1315.        ],\n",
       "       [ 152.        ,  965.        ,  266.        , 1280.        ],\n",
       "       [ 152.        ,  967.        ,  269.        , 1280.        ],\n",
       "       [ 156.        ,  967.        ,  271.5       , 1260.        ],\n",
       "       [ 152.5       ,  946.        ,  271.        , 1260.        ],\n",
       "       [ 151.5       ,  950.        ,  275.        , 1275.        ],\n",
       "       [ 156.        ,  990.        ,  280.        , 1275.        ],\n",
       "       [ 155.5       ,  998.        ,  281.5       , 1245.        ]])"
      ]
     },
     "execution_count": 16,
     "metadata": {},
     "output_type": "execute_result"
    }
   ],
   "source": [
    "StockData = process_df_for_mvo(train)\n",
    "TradeData = process_df_for_mvo(trade)\n",
    "\n",
    "TradeData.to_numpy()"
   ]
  },
  {
   "cell_type": "code",
   "execution_count": 17,
   "metadata": {
    "colab": {
     "base_uri": "https://localhost:8080/"
    },
    "id": "u6_O6vrn_uD4",
    "outputId": "0c2f8bf7-07e7-4fe5-c409-93312b95a8dd"
   },
   "outputs": [
    {
     "name": "stdout",
     "output_type": "stream",
     "text": [
      "Mean returns of assets in k-portfolio 1\n",
      " [0.255 0.245 0.511 0.289]\n",
      "Variance-Covariance matrix of returns\n",
      " [[ 3.17   0.84   1.542  0.995]\n",
      " [ 0.84   2.763  1.586  1.738]\n",
      " [ 1.542  1.586 10.158  1.056]\n",
      " [ 0.995  1.738  1.056  4.653]]\n"
     ]
    }
   ],
   "source": [
    "#compute asset returns\n",
    "arStockPrices = np.asarray(StockData)\n",
    "[Rows, Cols]=arStockPrices.shape\n",
    "arReturns = StockReturnsComputing(arStockPrices, Rows, Cols)\n",
    "\n",
    "#compute mean returns and variance covariance matrix of returns\n",
    "meanReturns = np.mean(arReturns, axis = 0)\n",
    "covReturns = np.cov(arReturns, rowvar=False)\n",
    " \n",
    "#set precision for printing results\n",
    "np.set_printoptions(precision=3, suppress = True)\n",
    "\n",
    "#display mean returns and variance-covariance matrix of returns\n",
    "print('Mean returns of assets in k-portfolio 1\\n', meanReturns)\n",
    "print('Variance-Covariance matrix of returns\\n', covReturns)"
   ]
  },
  {
   "cell_type": "markdown",
   "metadata": {
    "id": "zC7r-cI8RR1X"
   },
   "source": [
    "### Use PyPortfolioOpt"
   ]
  },
  {
   "cell_type": "code",
   "execution_count": 18,
   "metadata": {
    "colab": {
     "base_uri": "https://localhost:8080/"
    },
    "id": "b1btTONEdCU4",
    "outputId": "75096462-7dfb-4ce6-c6f4-4671f11e79fc"
   },
   "outputs": [
    {
     "data": {
      "text/plain": [
       "'\\n#一檔股票的情況下，使用pypfopt庫進行均值-方差優化\\n\\n# 假設只有一檔資產，且權重上限為 1\\nweight_bounds = (1, 1)\\nsingle_asset_weight = weight_bounds[1]  # 最大權重0.5\\n\\n# 投資金額 1,000,000 元，直接乘以權重\\ninvestment_amount = 1000000\\nmvo_weights = np.array([investment_amount * single_asset_weight])\\n\\nprint(mvo_weights)\\n'"
      ]
     },
     "execution_count": 18,
     "metadata": {},
     "output_type": "execute_result"
    }
   ],
   "source": [
    "#多檔股票的情況下，使用pypfopt庫進行均值-方差優化\n",
    "\n",
    "from pypfopt.efficient_frontier import EfficientFrontier\n",
    "\n",
    "ef_mean = EfficientFrontier(meanReturns, covReturns, weight_bounds=(0, 0.5))\n",
    "raw_weights_mean = ef_mean.max_sharpe()\n",
    "cleaned_weights_mean = ef_mean.clean_weights()\n",
    "mvo_weights = np.array([1000000 * cleaned_weights_mean[i] for i in range(len(cleaned_weights_mean))])\n",
    "mvo_weights\n",
    "\n",
    "\n",
    "'''\n",
    "#一檔股票的情況下，使用pypfopt庫進行均值-方差優化\n",
    "\n",
    "# 假設只有一檔資產，且權重上限為 1\n",
    "weight_bounds = (1, 1)\n",
    "single_asset_weight = weight_bounds[1]  # 最大權重0.5\n",
    "\n",
    "# 投資金額 1,000,000 元，直接乘以權重\n",
    "investment_amount = 1000000\n",
    "mvo_weights = np.array([investment_amount * single_asset_weight])\n",
    "\n",
    "print(mvo_weights)\n",
    "'''\n"
   ]
  },
  {
   "cell_type": "code",
   "execution_count": 19,
   "metadata": {
    "colab": {
     "base_uri": "https://localhost:8080/"
    },
    "id": "F38NJRJJgOmj",
    "outputId": "f575651b-1e9b-4015-ae71-c9fc2c3a3dae"
   },
   "outputs": [
    {
     "data": {
      "text/plain": [
       "array([1459.621,  251.428,  763.045,  160.573])"
      ]
     },
     "execution_count": 19,
     "metadata": {},
     "output_type": "execute_result"
    }
   ],
   "source": [
    "LastPrice = np.array([1/p for p in StockData.tail(1).to_numpy()[0]])\n",
    "Initial_Portfolio = np.multiply(mvo_weights, LastPrice)\n",
    "Initial_Portfolio"
   ]
  },
  {
   "cell_type": "code",
   "execution_count": 20,
   "metadata": {
    "id": "ZAd1iXqZhQ6X"
   },
   "outputs": [
    {
     "data": {
      "text/html": [
       "<div>\n",
       "<style scoped>\n",
       "    .dataframe tbody tr th:only-of-type {\n",
       "        vertical-align: middle;\n",
       "    }\n",
       "\n",
       "    .dataframe tbody tr th {\n",
       "        vertical-align: top;\n",
       "    }\n",
       "\n",
       "    .dataframe thead th {\n",
       "        text-align: right;\n",
       "    }\n",
       "</style>\n",
       "<table border=\"1\" class=\"dataframe\">\n",
       "  <thead>\n",
       "    <tr style=\"text-align: right;\">\n",
       "      <th></th>\n",
       "      <th>Mean Var</th>\n",
       "    </tr>\n",
       "    <tr>\n",
       "      <th>date</th>\n",
       "      <th></th>\n",
       "    </tr>\n",
       "  </thead>\n",
       "  <tbody>\n",
       "    <tr>\n",
       "      <th>2024-07-01</th>\n",
       "      <td>1.002985e+06</td>\n",
       "    </tr>\n",
       "    <tr>\n",
       "      <th>2024-07-02</th>\n",
       "      <td>9.897818e+05</td>\n",
       "    </tr>\n",
       "    <tr>\n",
       "      <th>2024-07-03</th>\n",
       "      <td>9.927264e+05</td>\n",
       "    </tr>\n",
       "    <tr>\n",
       "      <th>2024-07-05</th>\n",
       "      <td>1.015208e+06</td>\n",
       "    </tr>\n",
       "    <tr>\n",
       "      <th>2024-07-08</th>\n",
       "      <td>1.056970e+06</td>\n",
       "    </tr>\n",
       "    <tr>\n",
       "      <th>...</th>\n",
       "      <td>...</td>\n",
       "    </tr>\n",
       "    <tr>\n",
       "      <th>2025-05-29</th>\n",
       "      <td>8.803208e+05</td>\n",
       "    </tr>\n",
       "    <tr>\n",
       "      <th>2025-06-02</th>\n",
       "      <td>8.695507e+05</td>\n",
       "    </tr>\n",
       "    <tr>\n",
       "      <th>2025-06-03</th>\n",
       "      <td>8.745575e+05</td>\n",
       "    </tr>\n",
       "    <tr>\n",
       "      <th>2025-06-04</th>\n",
       "      <td>8.949982e+05</td>\n",
       "    </tr>\n",
       "    <tr>\n",
       "      <th>2025-06-05</th>\n",
       "      <td>8.926072e+05</td>\n",
       "    </tr>\n",
       "  </tbody>\n",
       "</table>\n",
       "<p>215 rows × 1 columns</p>\n",
       "</div>"
      ],
      "text/plain": [
       "                Mean Var\n",
       "date                    \n",
       "2024-07-01  1.002985e+06\n",
       "2024-07-02  9.897818e+05\n",
       "2024-07-03  9.927264e+05\n",
       "2024-07-05  1.015208e+06\n",
       "2024-07-08  1.056970e+06\n",
       "...                  ...\n",
       "2025-05-29  8.803208e+05\n",
       "2025-06-02  8.695507e+05\n",
       "2025-06-03  8.745575e+05\n",
       "2025-06-04  8.949982e+05\n",
       "2025-06-05  8.926072e+05\n",
       "\n",
       "[215 rows x 1 columns]"
      ]
     },
     "execution_count": 20,
     "metadata": {},
     "output_type": "execute_result"
    }
   ],
   "source": [
    "Portfolio_Assets = TradeData @ Initial_Portfolio\n",
    "MVO_result = pd.DataFrame(Portfolio_Assets, columns=[\"Mean Var\"])\n",
    "MVO_result"
   ]
  },
  {
   "cell_type": "markdown",
   "metadata": {
    "id": "I5sgGe7g1HsL"
   },
   "source": [
    "# Part 4: DJIA index"
   ]
  },
  {
   "cell_type": "markdown",
   "metadata": {
    "id": "sVe_ufxTY2CW"
   },
   "source": [
    "Add DJIA index as a baseline to compare with."
   ]
  },
  {
   "cell_type": "code",
   "execution_count": 21,
   "metadata": {
    "id": "sACPzsI-6k8q"
   },
   "outputs": [
    {
     "data": {
      "text/plain": [
       "\"\\nTRAIN_START_DATE = '2009-01-01'\\nTRAIN_END_DATE = '2020-07-01'\\nTRADE_START_DATE = '2020-07-01'\\nTRADE_END_DATE = '2021-10-29'\\n\""
      ]
     },
     "execution_count": 21,
     "metadata": {},
     "output_type": "execute_result"
    }
   ],
   "source": [
    "'''\n",
    "TRAIN_START_DATE = '2009-01-01'\n",
    "TRAIN_END_DATE = '2020-07-01'\n",
    "TRADE_START_DATE = '2020-07-01'\n",
    "TRADE_END_DATE = '2021-10-29'\n",
    "'''"
   ]
  },
  {
   "cell_type": "code",
   "execution_count": 22,
   "metadata": {
    "colab": {
     "base_uri": "https://localhost:8080/"
    },
    "id": "TuszW-OB1K0m",
    "outputId": "b89a8350-de58-4fea-8e4b-856efa872712"
   },
   "outputs": [
    {
     "data": {
      "text/plain": [
       "'\\ndf_dji = YahooDownloader(\\n    start_date=TRADE_START_DATE, end_date=TRADE_END_DATE, ticker_list=[\"dji\"]\\n).fetch_data()\\n'"
      ]
     },
     "execution_count": 22,
     "metadata": {},
     "output_type": "execute_result"
    }
   ],
   "source": [
    "'''\n",
    "df_dji = YahooDownloader(\n",
    "    start_date=TRADE_START_DATE, end_date=TRADE_END_DATE, ticker_list=[\"dji\"]\n",
    ").fetch_data()\n",
    "'''"
   ]
  },
  {
   "cell_type": "code",
   "execution_count": 23,
   "metadata": {
    "id": "Q3RXz72U1VbV"
   },
   "outputs": [
    {
     "data": {
      "text/plain": [
       "'\\ndf_dji = df_dji[[\"date\", \"close\"]]\\nfst_day = df_dji[\"close\"][0]\\ndji = pd.merge(\\n    df_dji[\"date\"],\\n    df_dji[\"close\"].div(fst_day).mul(1000000),\\n    how=\"outer\",\\n    left_index=True,\\n    right_index=True,\\n).set_index(\"date\")\\n'"
      ]
     },
     "execution_count": 23,
     "metadata": {},
     "output_type": "execute_result"
    }
   ],
   "source": [
    "'''\n",
    "df_dji = df_dji[[\"date\", \"close\"]]\n",
    "fst_day = df_dji[\"close\"][0]\n",
    "dji = pd.merge(\n",
    "    df_dji[\"date\"],\n",
    "    df_dji[\"close\"].div(fst_day).mul(1000000),\n",
    "    how=\"outer\",\n",
    "    left_index=True,\n",
    "    right_index=True,\n",
    ").set_index(\"date\")\n",
    "'''"
   ]
  },
  {
   "cell_type": "markdown",
   "metadata": {
    "id": "W6vvNSC6h1jZ"
   },
   "source": [
    "<a id='4'></a>\n",
    "# Part 5: Backtesting Results\n",
    "Backtesting plays a key role in evaluating the performance of a trading strategy. Automated backtesting tool is preferred because it reduces the human error. We usually use the Quantopian pyfolio package to backtest our trading strategies. It is easy to use and consists of various individual plots that provide a comprehensive image of the performance of a trading strategy."
   ]
  },
  {
   "cell_type": "code",
   "execution_count": 24,
   "metadata": {
    "id": "KeDeGAc9VrEg"
   },
   "outputs": [],
   "source": [
    "df_result_a2c = (\n",
    "    df_account_value_a2c.set_index(df_account_value_a2c.columns[0])\n",
    "    if if_using_a2c\n",
    "    else None\n",
    ")\n",
    "df_result_ddpg = (\n",
    "    df_account_value_ddpg.set_index(df_account_value_ddpg.columns[0])\n",
    "    if if_using_ddpg\n",
    "    else None\n",
    ")\n",
    "df_result_ppo = (\n",
    "    df_account_value_ppo.set_index(df_account_value_ppo.columns[0])\n",
    "    if if_using_ppo\n",
    "    else None\n",
    ")\n",
    "df_result_td3 = (\n",
    "    df_account_value_td3.set_index(df_account_value_td3.columns[0])\n",
    "    if if_using_td3\n",
    "    else None\n",
    ")\n",
    "df_result_sac = (\n",
    "    df_account_value_sac.set_index(df_account_value_sac.columns[0])\n",
    "    if if_using_sac\n",
    "    else None\n",
    ")\n",
    "\n",
    "result = pd.DataFrame(\n",
    "    {\n",
    "        \"a2c\": df_result_a2c[\"account_value\"] if if_using_a2c else None,\n",
    "        \"ddpg\": df_result_ddpg[\"account_value\"] if if_using_ddpg else None,\n",
    "        \"ppo\": df_result_ppo[\"account_value\"] if if_using_ppo else None,\n",
    "        \"td3\": df_result_td3[\"account_value\"] if if_using_td3 else None,\n",
    "        \"sac\": df_result_sac[\"account_value\"] if if_using_sac else None,\n",
    "        \"mvo\": MVO_result[\"Mean Var\"],\n",
    "        #\"dji\": dji[\"close\"],\n",
    "    }\n",
    ")"
   ]
  },
  {
   "cell_type": "code",
   "execution_count": 25,
   "metadata": {
    "colab": {
     "base_uri": "https://localhost:8080/",
     "height": 455
    },
    "id": "l4FZxyDt3XaE",
    "outputId": "2e739637-bf88-4698-9cf1-9a526452e465"
   },
   "outputs": [
    {
     "data": {
      "text/html": [
       "<div>\n",
       "<style scoped>\n",
       "    .dataframe tbody tr th:only-of-type {\n",
       "        vertical-align: middle;\n",
       "    }\n",
       "\n",
       "    .dataframe tbody tr th {\n",
       "        vertical-align: top;\n",
       "    }\n",
       "\n",
       "    .dataframe thead th {\n",
       "        text-align: right;\n",
       "    }\n",
       "</style>\n",
       "<table border=\"1\" class=\"dataframe\">\n",
       "  <thead>\n",
       "    <tr style=\"text-align: right;\">\n",
       "      <th></th>\n",
       "      <th>a2c</th>\n",
       "      <th>ddpg</th>\n",
       "      <th>ppo</th>\n",
       "      <th>td3</th>\n",
       "      <th>sac</th>\n",
       "      <th>mvo</th>\n",
       "    </tr>\n",
       "    <tr>\n",
       "      <th>date</th>\n",
       "      <th></th>\n",
       "      <th></th>\n",
       "      <th></th>\n",
       "      <th></th>\n",
       "      <th></th>\n",
       "      <th></th>\n",
       "    </tr>\n",
       "  </thead>\n",
       "  <tbody>\n",
       "    <tr>\n",
       "      <th>2024-07-01</th>\n",
       "      <td>1.000000e+06</td>\n",
       "      <td>None</td>\n",
       "      <td>1.000000e+06</td>\n",
       "      <td>None</td>\n",
       "      <td>None</td>\n",
       "      <td>1.002985e+06</td>\n",
       "    </tr>\n",
       "    <tr>\n",
       "      <th>2024-07-02</th>\n",
       "      <td>9.995082e+05</td>\n",
       "      <td>None</td>\n",
       "      <td>9.992929e+05</td>\n",
       "      <td>None</td>\n",
       "      <td>None</td>\n",
       "      <td>9.897818e+05</td>\n",
       "    </tr>\n",
       "    <tr>\n",
       "      <th>2024-07-03</th>\n",
       "      <td>9.986335e+05</td>\n",
       "      <td>None</td>\n",
       "      <td>9.999418e+05</td>\n",
       "      <td>None</td>\n",
       "      <td>None</td>\n",
       "      <td>9.927264e+05</td>\n",
       "    </tr>\n",
       "    <tr>\n",
       "      <th>2024-07-05</th>\n",
       "      <td>9.927440e+05</td>\n",
       "      <td>None</td>\n",
       "      <td>1.000440e+06</td>\n",
       "      <td>None</td>\n",
       "      <td>None</td>\n",
       "      <td>1.015208e+06</td>\n",
       "    </tr>\n",
       "    <tr>\n",
       "      <th>2024-07-08</th>\n",
       "      <td>1.014579e+06</td>\n",
       "      <td>None</td>\n",
       "      <td>1.016370e+06</td>\n",
       "      <td>None</td>\n",
       "      <td>None</td>\n",
       "      <td>1.056970e+06</td>\n",
       "    </tr>\n",
       "    <tr>\n",
       "      <th>...</th>\n",
       "      <td>...</td>\n",
       "      <td>...</td>\n",
       "      <td>...</td>\n",
       "      <td>...</td>\n",
       "      <td>...</td>\n",
       "      <td>...</td>\n",
       "    </tr>\n",
       "    <tr>\n",
       "      <th>2025-05-29</th>\n",
       "      <td>9.198401e+05</td>\n",
       "      <td>None</td>\n",
       "      <td>9.267393e+05</td>\n",
       "      <td>None</td>\n",
       "      <td>None</td>\n",
       "      <td>8.803208e+05</td>\n",
       "    </tr>\n",
       "    <tr>\n",
       "      <th>2025-06-02</th>\n",
       "      <td>9.198401e+05</td>\n",
       "      <td>None</td>\n",
       "      <td>9.212823e+05</td>\n",
       "      <td>None</td>\n",
       "      <td>None</td>\n",
       "      <td>8.695507e+05</td>\n",
       "    </tr>\n",
       "    <tr>\n",
       "      <th>2025-06-03</th>\n",
       "      <td>9.307901e+05</td>\n",
       "      <td>None</td>\n",
       "      <td>9.306753e+05</td>\n",
       "      <td>None</td>\n",
       "      <td>None</td>\n",
       "      <td>8.745575e+05</td>\n",
       "    </tr>\n",
       "    <tr>\n",
       "      <th>2025-06-04</th>\n",
       "      <td>9.307901e+05</td>\n",
       "      <td>None</td>\n",
       "      <td>9.424053e+05</td>\n",
       "      <td>None</td>\n",
       "      <td>None</td>\n",
       "      <td>8.949982e+05</td>\n",
       "    </tr>\n",
       "    <tr>\n",
       "      <th>2025-06-05</th>\n",
       "      <td>9.088901e+05</td>\n",
       "      <td>None</td>\n",
       "      <td>9.307863e+05</td>\n",
       "      <td>None</td>\n",
       "      <td>None</td>\n",
       "      <td>8.926072e+05</td>\n",
       "    </tr>\n",
       "  </tbody>\n",
       "</table>\n",
       "<p>215 rows × 6 columns</p>\n",
       "</div>"
      ],
      "text/plain": [
       "                     a2c  ddpg           ppo   td3   sac           mvo\n",
       "date                                                                  \n",
       "2024-07-01  1.000000e+06  None  1.000000e+06  None  None  1.002985e+06\n",
       "2024-07-02  9.995082e+05  None  9.992929e+05  None  None  9.897818e+05\n",
       "2024-07-03  9.986335e+05  None  9.999418e+05  None  None  9.927264e+05\n",
       "2024-07-05  9.927440e+05  None  1.000440e+06  None  None  1.015208e+06\n",
       "2024-07-08  1.014579e+06  None  1.016370e+06  None  None  1.056970e+06\n",
       "...                  ...   ...           ...   ...   ...           ...\n",
       "2025-05-29  9.198401e+05  None  9.267393e+05  None  None  8.803208e+05\n",
       "2025-06-02  9.198401e+05  None  9.212823e+05  None  None  8.695507e+05\n",
       "2025-06-03  9.307901e+05  None  9.306753e+05  None  None  8.745575e+05\n",
       "2025-06-04  9.307901e+05  None  9.424053e+05  None  None  8.949982e+05\n",
       "2025-06-05  9.088901e+05  None  9.307863e+05  None  None  8.926072e+05\n",
       "\n",
       "[215 rows x 6 columns]"
      ]
     },
     "execution_count": 25,
     "metadata": {},
     "output_type": "execute_result"
    }
   ],
   "source": [
    "result"
   ]
  },
  {
   "cell_type": "markdown",
   "metadata": {
    "id": "QQuc5hI9Yklt"
   },
   "source": [
    "Now, everything is ready, we can plot the backtest result."
   ]
  },
  {
   "cell_type": "code",
   "execution_count": 26,
   "metadata": {
    "colab": {
     "base_uri": "https://localhost:8080/",
     "height": 381
    },
    "id": "6xRfrqK4RVfq",
    "outputId": "469c9729-fd57-417c-9b13-2243426923e2"
   },
   "outputs": [
    {
     "data": {
      "text/plain": [
       "'\\nplt.title(\"Comparison of Different Strategies on FOXCONN\", fontsize=16)  # Main title ✅\\nplt.xlabel(\"Trading Date\", fontsize=12)                       # X-axis label ✅\\nplt.ylabel(\"Portfolio Value (USD)\", fontsize=12)              # Y-axis label ✅\\n'"
      ]
     },
     "execution_count": 26,
     "metadata": {},
     "output_type": "execute_result"
    },
    {
     "data": {
      "text/plain": [
       "<Figure size 1500x500 with 0 Axes>"
      ]
     },
     "metadata": {},
     "output_type": "display_data"
    },
    {
     "data": {
      "image/png": "[encoded data removed]",
      "text/plain": [
       "<Figure size 1500x500 with 1 Axes>"
      ]
     },
     "metadata": {},
     "output_type": "display_data"
    }
   ],
   "source": [
    "plt.rcParams[\"figure.figsize\"] = (15,5)\n",
    "plt.figure()\n",
    "result.plot()\n",
    "\n",
    "###多檔\n",
    "\n",
    "plt.title(\"Comparison of Different Strategies on Taiwan's Four Major Weighted Stocks\", fontsize=16)  # Main title ✅\n",
    "plt.xlabel(\"Trading Date\", fontsize=12)                       # X-axis label ✅\n",
    "plt.ylabel(\"Portfolio Value (USD)\", fontsize=12)              # Y-axis label ✅\n",
    "\n",
    "###單檔(TSMC)\n",
    "'''\n",
    "plt.title(\"Comparison of Different Strategies on TSMC\", fontsize=16)  # Main title ✅\n",
    "plt.xlabel(\"Trading Date\", fontsize=12)                       # X-axis label ✅\n",
    "plt.ylabel(\"Portfolio Value (USD)\", fontsize=12)              # Y-axis label ✅\n",
    "'''\n",
    "###單檔(MTK)\n",
    "'''\n",
    "plt.title(\"Comparison of Different Strategies on MTK\", fontsize=16)  # Main title ✅\n",
    "plt.xlabel(\"Trading Date\", fontsize=12)                       # X-axis label ✅\n",
    "plt.ylabel(\"Portfolio Value (USD)\", fontsize=12)              # Y-axis label ✅\n",
    "'''\n",
    "###單檔(QCI)\n",
    "'''\n",
    "plt.title(\"Comparison of Different Strategies on QCI\", fontsize=16)  # Main title ✅\n",
    "plt.xlabel(\"Trading Date\", fontsize=12)                       # X-axis label ✅\n",
    "plt.ylabel(\"Portfolio Value (USD)\", fontsize=12)              # Y-axis label ✅\n",
    "'''\n",
    "###單檔(FOXCONN)\n",
    "'''\n",
    "plt.title(\"Comparison of Different Strategies on FOXCONN\", fontsize=16)  # Main title ✅\n",
    "plt.xlabel(\"Trading Date\", fontsize=12)                       # X-axis label ✅\n",
    "plt.ylabel(\"Portfolio Value (USD)\", fontsize=12)              # Y-axis label ✅\n",
    "'''\n"
   ]
  }
 ],
 "metadata": {
  "colab": {
   "collapsed_sections": [
    "GfZ5vY5wRjkJ"
   ],
   "provenance": []
  },
  "kernelspec": {
   "display_name": "testenv",
   "language": "python",
   "name": "python3"
  },
  "language_info": {
   "codemirror_mode": {
    "name": "ipython",
    "version": 3
   },
   "file_extension": ".py",
   "mimetype": "text/x-python",
   "name": "python",
   "nbconvert_exporter": "python",
   "pygments_lexer": "ipython3",
   "version": "3.9.2"
  }
 },
 "nbformat": 4,
 "nbformat_minor": 0
}
